{
 "cells": [
  {
   "cell_type": "code",
   "execution_count": 19,
   "metadata": {
    "pycharm": {
     "name": "#%%\n"
    }
   },
   "outputs": [
    {
     "name": "stdout",
     "output_type": "stream",
     "text": [
      "股债收益率比 - 指数点位 相关系数\n"
     ]
    },
    {
     "data": {
      "text/plain": "       加权-股债收益率比  等权-股债收益率比      最早数据日期\n中证全A     -0.1553    -0.3660  2006.01.04\n沪深300    -0.1931    -0.3882  2006.01.04",
      "text/html": "<div>\n<style scoped>\n    .dataframe tbody tr th:only-of-type {\n        vertical-align: middle;\n    }\n\n    .dataframe tbody tr th {\n        vertical-align: top;\n    }\n\n    .dataframe thead th {\n        text-align: right;\n    }\n</style>\n<table border=\"1\" class=\"dataframe\">\n  <thead>\n    <tr style=\"text-align: right;\">\n      <th></th>\n      <th>加权-股债收益率比</th>\n      <th>等权-股债收益率比</th>\n      <th>最早数据日期</th>\n    </tr>\n  </thead>\n  <tbody>\n    <tr>\n      <th>中证全A</th>\n      <td>-0.1553</td>\n      <td>-0.3660</td>\n      <td>2006.01.04</td>\n    </tr>\n    <tr>\n      <th>沪深300</th>\n      <td>-0.1931</td>\n      <td>-0.3882</td>\n      <td>2006.01.04</td>\n    </tr>\n  </tbody>\n</table>\n</div>"
     },
     "execution_count": 19,
     "metadata": {},
     "output_type": "execute_result"
    }
   ],
   "source": [
    "import pandas as pd\n",
    "import numpy\n",
    "from sklearn import feature_selection\n",
    "\n",
    "pd.set_option(\"display.max_columns\", None,\n",
    "              \"display.float_format\",lambda x : '%.4f' % x)\n",
    "# 指数\n",
    "indicators = [\n",
    "    '中证全A',\n",
    "    '沪深300',\n",
    "]\n",
    "# 考察的指标\n",
    "col_names = ['加权-股债收益率比', '等权-股债收益率比']\n",
    "\n",
    "# 只取10年前的数据\n",
    "from_date = '2012-01-01'\n",
    "\n",
    "correlation_coefficients_result = []\n",
    "\n",
    "for indicator in indicators:\n",
    "\n",
    "    df = pd.read_excel('../data/股债收益率比_' + indicator + '.xls')\n",
    "    # 只取大于某日期的数据\n",
    "    # df = df.loc[lambda d : d['日期'] >= from_date, :]\n",
    "    # 取特征\n",
    "    features = df[col_names]\n",
    "    # 取y值\n",
    "    price = df['指数点位'].values\n",
    "\n",
    "    correlation_coefficients = feature_selection.r_regression(features, price)\n",
    "    # 最后一行的日期\n",
    "    correlation_coefficients = numpy.append(correlation_coefficients, df.head(1)['日期'])\n",
    "    correlation_coefficients_result.append(correlation_coefficients)\n",
    "\n",
    "col_names.append('最早数据日期')\n",
    "print('股债收益率比 - 指数点位 相关系数')\n",
    "result = pd.DataFrame(data=correlation_coefficients_result, columns=col_names, index=indicators)\n",
    "result"
   ]
  },
  {
   "cell_type": "code",
   "execution_count": null,
   "outputs": [],
   "source": [],
   "metadata": {
    "collapsed": false,
    "pycharm": {
     "name": "#%%\n"
    }
   }
  }
 ],
 "metadata": {
  "interpreter": {
   "hash": "82f0aeebc1a1669fdd35c19a367746e2a1fca5a4eab43c7b8580d8993ffeba06"
  },
  "kernelspec": {
   "display_name": "Python 3.9.12 ('.venv': venv)",
   "language": "python",
   "name": "python3"
  },
  "language_info": {
   "codemirror_mode": {
    "name": "ipython",
    "version": 3
   },
   "file_extension": ".py",
   "mimetype": "text/x-python",
   "name": "python",
   "nbconvert_exporter": "python",
   "pygments_lexer": "ipython3",
   "version": "3.9.12"
  },
  "orig_nbformat": 4
 },
 "nbformat": 4,
 "nbformat_minor": 2
}