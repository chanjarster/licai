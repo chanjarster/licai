{
 "cells": [
  {
   "cell_type": "code",
   "execution_count": 3,
   "metadata": {
    "pycharm": {
     "name": "#%%\n"
    }
   },
   "outputs": [
    {
     "name": "stdout",
     "output_type": "stream",
     "text": [
      "价格与特征的相关系数\n"
     ]
    },
    {
     "data": {
      "text/html": [
       "<div>\n",
       "<style scoped>\n",
       "    .dataframe tbody tr th:only-of-type {\n",
       "        vertical-align: middle;\n",
       "    }\n",
       "\n",
       "    .dataframe tbody tr th {\n",
       "        vertical-align: top;\n",
       "    }\n",
       "\n",
       "    .dataframe thead th {\n",
       "        text-align: right;\n",
       "    }\n",
       "</style>\n",
       "<table border=\"1\" class=\"dataframe\">\n",
       "  <thead>\n",
       "    <tr style=\"text-align: right;\">\n",
       "      <th></th>\n",
       "      <th>PE_ETF加权</th>\n",
       "      <th>PE_市值加权</th>\n",
       "      <th>PE_等权</th>\n",
       "      <th>PB_ETF加权</th>\n",
       "      <th>PB_市值加权</th>\n",
       "      <th>PB_等权</th>\n",
       "      <th>股息收益率 %</th>\n",
       "      <th>ROE %</th>\n",
       "      <th>最早数据日期</th>\n",
       "    </tr>\n",
       "  </thead>\n",
       "  <tbody>\n",
       "    <tr>\n",
       "      <th>000016_上证50</th>\n",
       "      <td>0.7973</td>\n",
       "      <td>0.8019</td>\n",
       "      <td>0.5831</td>\n",
       "      <td>-0.0336</td>\n",
       "      <td>-0.0376</td>\n",
       "      <td>0.4170</td>\n",
       "      <td>-0.6665</td>\n",
       "      <td>-0.8027</td>\n",
       "      <td>2012-01-04</td>\n",
       "    </tr>\n",
       "    <tr>\n",
       "      <th>930713_CS人工智能</th>\n",
       "      <td>0.6921</td>\n",
       "      <td>0.7187</td>\n",
       "      <td>0.4080</td>\n",
       "      <td>0.7526</td>\n",
       "      <td>0.6845</td>\n",
       "      <td>0.3945</td>\n",
       "      <td>-0.5246</td>\n",
       "      <td>-0.2569</td>\n",
       "      <td>2015-08-03</td>\n",
       "    </tr>\n",
       "  </tbody>\n",
       "</table>\n",
       "</div>"
      ],
      "text/plain": [
       "               PE_ETF加权  PE_市值加权  PE_等权  PB_ETF加权  PB_市值加权  PB_等权  股息收益率 %  \\\n",
       "000016_上证50      0.7973   0.8019 0.5831   -0.0336  -0.0376 0.4170  -0.6665   \n",
       "930713_CS人工智能    0.6921   0.7187 0.4080    0.7526   0.6845 0.3945  -0.5246   \n",
       "\n",
       "                ROE %      最早数据日期  \n",
       "000016_上证50   -0.8027  2012-01-04  \n",
       "930713_CS人工智能 -0.2569  2015-08-03  "
      ]
     },
     "execution_count": 3,
     "metadata": {},
     "output_type": "execute_result"
    }
   ],
   "source": [
    "import pandas as pd\n",
    "import numpy\n",
    "from sklearn import feature_selection\n",
    "\n",
    "pd.set_option(\"display.max_columns\", None,\n",
    "              \"display.float_format\",lambda x : '%.4f' % x)\n",
    "# 指数\n",
    "indicators = [\n",
    "    '000016_上证50',\n",
    "    '000300_沪深300',\n",
    "    '399006_创业板指',\n",
    "    '000932_中证消费',\n",
    "    '399440_国证钢铁',\n",
    "    '000941_新能源',\n",
    "    'H30184_半导体',\n",
    "    '931009_建筑材料',\n",
    "    '399989_中证医疗',\n",
    "    '399976_CS新能源车',\n",
    "    '931798_光伏龙头30',\n",
    "    '000819_有色金属',\n",
    "    '930632_CS稀金属',\n",
    "    '930726_中证生物医药',\n",
    "    '930713_CS人工智能',\n",
    "]\n",
    "# 考察的指标\n",
    "col_names = ['PE_ETF加权', 'PE_市值加权', 'PE_等权','PB_ETF加权', 'PB_市值加权', 'PB_等权', '股息收益率 %', 'ROE %']\n",
    "\n",
    "# 只取10年前的数据\n",
    "from_date = '2012-01-01'\n",
    "\n",
    "correlation_coefficients_result = []\n",
    "\n",
    "for indicator in indicators:\n",
    "    df = pd.read_excel('../data-指数-新表格/' + indicator + '.xls')\n",
    "    # 只取大于某日期的数据\n",
    "    df = df.loc[lambda d : d['日期'] >= from_date, :]\n",
    "\n",
    "    # 取特征\n",
    "    features = df[col_names]\n",
    "    # 取y值\n",
    "    price = df['收盘价'].values\n",
    "\n",
    "    correlation_coefficients = feature_selection.r_regression(features, price)\n",
    "    # 最后一行的日期\n",
    "    correlation_coefficients = numpy.append(correlation_coefficients, df.tail(1)['日期'])\n",
    "    correlation_coefficients_result.append(correlation_coefficients)\n",
    "\n",
    "col_names.append('最早数据日期')\n",
    "print('价格与特征的相关系数')\n",
    "result = pd.DataFrame(data=correlation_coefficients_result, columns=col_names, index=indicators)\n",
    "result"
   ]
  },
  {
   "cell_type": "code",
   "execution_count": null,
   "metadata": {
    "collapsed": false,
    "pycharm": {
     "name": "#%%\n"
    }
   },
   "outputs": [],
   "source": []
  }
 ],
 "metadata": {
  "kernelspec": {
   "display_name": "Python 3.9.15 ('.venv': venv)",
   "language": "python",
   "name": "python3"
  },
  "language_info": {
   "codemirror_mode": {
    "name": "ipython",
    "version": 3
   },
   "file_extension": ".py",
   "mimetype": "text/x-python",
   "name": "python",
   "nbconvert_exporter": "python",
   "pygments_lexer": "ipython3",
   "version": "3.9.17"
  },
  "orig_nbformat": 4,
  "vscode": {
   "interpreter": {
    "hash": "3374470cb8f3d5c711111773634aa160cf62c71aa5ca6e0df5131dd488b5a7b8"
   }
  }
 },
 "nbformat": 4,
 "nbformat_minor": 2
}
