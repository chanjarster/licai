{
 "cells": [
  {
   "cell_type": "code",
   "execution_count": 1,
   "metadata": {
    "pycharm": {
     "name": "#%%\n"
    }
   },
   "outputs": [
    {
     "name": "stdout",
     "output_type": "stream",
     "text": [
      "价格与特征的相关系数\n"
     ]
    },
    {
     "data": {
      "text/html": [
       "<div>\n",
       "<style scoped>\n",
       "    .dataframe tbody tr th:only-of-type {\n",
       "        vertical-align: middle;\n",
       "    }\n",
       "\n",
       "    .dataframe tbody tr th {\n",
       "        vertical-align: top;\n",
       "    }\n",
       "\n",
       "    .dataframe thead th {\n",
       "        text-align: right;\n",
       "    }\n",
       "</style>\n",
       "<table border=\"1\" class=\"dataframe\">\n",
       "  <thead>\n",
       "    <tr style=\"text-align: right;\">\n",
       "      <th></th>\n",
       "      <th>滚动市盈率 - pe_ttm</th>\n",
       "      <th>滚动扣非市盈率 - koufei_pe_ttm</th>\n",
       "      <th>滚动市净率 - pb_ttm</th>\n",
       "      <th>动态市销率 - ps_ttm</th>\n",
       "      <th>动态股息收益率 % - dividend_yield</th>\n",
       "      <th>ROE %</th>\n",
       "      <th>最早数据日期</th>\n",
       "    </tr>\n",
       "  </thead>\n",
       "  <tbody>\n",
       "    <tr>\n",
       "      <th>sz002389_航天彩虹</th>\n",
       "      <td>0.4404</td>\n",
       "      <td>0.4094</td>\n",
       "      <td>0.4893</td>\n",
       "      <td>0.2679</td>\n",
       "      <td>-0.6834</td>\n",
       "      <td>-0.2970</td>\n",
       "      <td>2012-01-04</td>\n",
       "    </tr>\n",
       "    <tr>\n",
       "      <th>sh601127_赛力斯</th>\n",
       "      <td>-0.2387</td>\n",
       "      <td>-0.2058</td>\n",
       "      <td>0.8879</td>\n",
       "      <td>0.9721</td>\n",
       "      <td>-0.5977</td>\n",
       "      <td>-0.3056</td>\n",
       "      <td>2016-06-15</td>\n",
       "    </tr>\n",
       "    <tr>\n",
       "      <th>sh600418_江淮汽车</th>\n",
       "      <td>0.1101</td>\n",
       "      <td>0.1523</td>\n",
       "      <td>0.8802</td>\n",
       "      <td>0.9155</td>\n",
       "      <td>-0.4449</td>\n",
       "      <td>0.0278</td>\n",
       "      <td>2012-01-04</td>\n",
       "    </tr>\n",
       "    <tr>\n",
       "      <th>sz300750_宁德时代</th>\n",
       "      <td>0.5871</td>\n",
       "      <td>0.5440</td>\n",
       "      <td>0.8214</td>\n",
       "      <td>0.5507</td>\n",
       "      <td>-0.0141</td>\n",
       "      <td>0.4145</td>\n",
       "      <td>2018-06-11</td>\n",
       "    </tr>\n",
       "    <tr>\n",
       "      <th>sz002594_比亚迪</th>\n",
       "      <td>0.2852</td>\n",
       "      <td>0.5243</td>\n",
       "      <td>0.8851</td>\n",
       "      <td>0.8132</td>\n",
       "      <td>-0.2364</td>\n",
       "      <td>0.1328</td>\n",
       "      <td>2012-01-04</td>\n",
       "    </tr>\n",
       "  </tbody>\n",
       "</table>\n",
       "</div>"
      ],
      "text/plain": [
       "               滚动市盈率 - pe_ttm  滚动扣非市盈率 - koufei_pe_ttm  滚动市净率 - pb_ttm  \\\n",
       "sz002389_航天彩虹          0.4404                   0.4094          0.4893   \n",
       "sh601127_赛力斯          -0.2387                  -0.2058          0.8879   \n",
       "sh600418_江淮汽车          0.1101                   0.1523          0.8802   \n",
       "sz300750_宁德时代          0.5871                   0.5440          0.8214   \n",
       "sz002594_比亚迪           0.2852                   0.5243          0.8851   \n",
       "\n",
       "               动态市销率 - ps_ttm  动态股息收益率 % - dividend_yield   ROE %      最早数据日期  \n",
       "sz002389_航天彩虹          0.2679                     -0.6834 -0.2970  2012-01-04  \n",
       "sh601127_赛力斯           0.9721                     -0.5977 -0.3056  2016-06-15  \n",
       "sh600418_江淮汽车          0.9155                     -0.4449  0.0278  2012-01-04  \n",
       "sz300750_宁德时代          0.5507                     -0.0141  0.4145  2018-06-11  \n",
       "sz002594_比亚迪           0.8132                     -0.2364  0.1328  2012-01-04  "
      ]
     },
     "execution_count": 1,
     "metadata": {},
     "output_type": "execute_result"
    }
   ],
   "source": [
    "import pandas as pd\n",
    "import numpy\n",
    "from sklearn import feature_selection\n",
    "\n",
    "pd.set_option(\"display.max_columns\", None,\n",
    "              \"display.float_format\",lambda x : '%.4f' % x)\n",
    "# 指数\n",
    "indicators = [\n",
    "    'sz002389_航天彩虹',\n",
    "    'sh601127_赛力斯',\n",
    "    'sh600418_江淮汽车',\n",
    "    'sz300750_宁德时代',  \n",
    "    'sz002594_比亚迪',\n",
    "]\n",
    "# 考察的指标\n",
    "col_names = [\n",
    "    '滚动市盈率 - pe_ttm',\n",
    "    '滚动扣非市盈率 - koufei_pe_ttm',\n",
    "    '滚动市净率 - pb_ttm',\n",
    "    '动态市销率 - ps_ttm',\n",
    "    '动态股息收益率 % - dividend_yield',\n",
    "    'ROE %'\n",
    "]\n",
    "\n",
    "# 只取10年前的数据\n",
    "from_date = '2012-01-01'\n",
    "\n",
    "date_column = '日期 - date'\n",
    "price_column = '收盘价(前复权) - close price'\n",
    "\n",
    "correlation_coefficients_result = []\n",
    "\n",
    "for indicator in indicators:\n",
    "    df = pd.read_csv('../data-stock/' + indicator + '.csv')\n",
    "    # 只取大于某日期的数据\n",
    "    df = df.loc[lambda d : d[date_column] >= from_date, :]\n",
    "\n",
    "    # 取特征\n",
    "    features = df[col_names]\n",
    "    # 取y值\n",
    "    price = df[price_column].values\n",
    "\n",
    "    correlation_coefficients = feature_selection.r_regression(features, price)\n",
    "    # 最后一行的日期\n",
    "    correlation_coefficients = numpy.append(correlation_coefficients, df.tail(1)[date_column])\n",
    "    correlation_coefficients_result.append(correlation_coefficients)\n",
    "\n",
    "col_names.append('最早数据日期')\n",
    "print('价格与特征的相关系数')\n",
    "result = pd.DataFrame(data=correlation_coefficients_result, columns=col_names, index=indicators)\n",
    "result"
   ]
  },
  {
   "cell_type": "code",
   "execution_count": null,
   "metadata": {
    "collapsed": false,
    "pycharm": {
     "name": "#%%\n"
    }
   },
   "outputs": [],
   "source": []
  }
 ],
 "metadata": {
  "kernelspec": {
   "display_name": "Python 3.9.15 ('.venv': venv)",
   "language": "python",
   "name": "python3"
  },
  "language_info": {
   "codemirror_mode": {
    "name": "ipython",
    "version": 3
   },
   "file_extension": ".py",
   "mimetype": "text/x-python",
   "name": "python",
   "nbconvert_exporter": "python",
   "pygments_lexer": "ipython3",
   "version": "3.9.17"
  },
  "orig_nbformat": 4,
  "vscode": {
   "interpreter": {
    "hash": "3374470cb8f3d5c711111773634aa160cf62c71aa5ca6e0df5131dd488b5a7b8"
   }
  }
 },
 "nbformat": 4,
 "nbformat_minor": 2
}
